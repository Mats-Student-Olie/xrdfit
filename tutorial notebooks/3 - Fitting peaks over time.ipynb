{
 "cells": [
  {
   "cell_type": "markdown",
   "metadata": {},
   "source": [
    "# 3. Loading and fitting multiple diffraction patterns"
   ]
  },
  {
   "cell_type": "markdown",
   "metadata": {},
   "source": [
    "If a number of diffraction patterns are collected over time they can be automatically fitted and the change in peaks over time measured. The change in the positions or heights of the peaks can then be correlated to material properties. We call the fitting of multiple **spectra** an **Experiment**.\n",
    "\n",
    "In the example files folder there is a sequence of 10 diffraction patterns which we will use for demonstration.\n",
    "\n",
    "## 3.1. Fitting a peak at multiple times\n",
    "\n",
    "The first thing to do is to load an `FittingExperiment` object - this contains some metadata about the experiment and will hold one `FitSpectrum` for each diffraction pattern. The *first_cake_angle*, *cakes_to_fit*, *peak_params* and *merge_cakes* parameters are the same as before. The *spectrum_time* parameter sets the number of seconds between each spectrum in the sequence - this value is used to appropriately label the x-axis on plots. The *file_stub* parameter is used to locate the files. To use all of the spectra in a folder that are sequentially numbered - provide the stub of the file name with a star (wildcard).\n",
    "\n",
    "Once the `FittingExperiment` object is loaded, the `run_analysis` method runs the fit over all of the specified files."
   ]
  },
  {
   "cell_type": "code",
   "execution_count": null,
   "metadata": {},
   "outputs": [],
   "source": [
    "#%load_ext autoreload\n",
    "#%autoreload 2\n",
    "\n",
    "%matplotlib inline\n",
    "\n",
    "import xrdfit.spectrum_fitting as spectrum_fitting\n",
    "from xrdfit.spectrum_fitting import PeakParams\n",
    "from xrdfit.spectrum_fitting import FitSpectrum\n",
    "import ipywidgets as widgets\n",
    "from ipywidgets import fixed\n",
    "\n",
    "first_cake_angle = 90\n",
    "\n",
    "cakes_to_fit = [1, 2]\n",
    "#cakes_to_fit = list(range(1, 11))\n",
    "\n",
    "## PeakParams('(10-11) & (200)', (3.1, 3.5), [(3.15, 3.32), (3.338, 3.45)]), PeakParams('(311) & (20-20) & Other', (5.4, 6.25), [(5.527, 5.565), (5.61, 5.7), (5.78, 5.82), (5.913, 5.95), (5.992, 6.04)])\n",
    "\n",
    "peak_params = [PeakParams('(10-10) & (111)', (2.70, 3.1),  [(2.883, 2.92), (2.94, 2.98)]),\n",
    "               PeakParams('(220) & (11-20)', (4.55, 5.25), [(4.79, 4.9), (5.0, 5.05)])]\n",
    "\n",
    "merge_cakes = False\n",
    "\n",
    "spectrum_time = 1\n",
    "file_stub = r'C:\\Users\\mbgnwob2\\Dropbox (The University of Manchester)\\2. Project\\Python Script\\Single Peak Fitting Script ORIGINAL - Copy\\Test_data_Sample2_tension_strain/Strain_00000.dat'"
   ]
  },
  {
   "cell_type": "code",
   "execution_count": null,
   "metadata": {},
   "outputs": [],
   "source": [
    "spectral_data = FitSpectrum(file_stub, first_cake_angle)\n",
    "\n",
    "for cake in cakes_to_fit:\n",
    "    for params in peak_params: \n",
    "        spectral_data.fit_peaks(params, cake)\n",
    "        spectral_data.plot_peak_params(params, cake, show_points=True)"
   ]
  },
  {
   "cell_type": "code",
   "execution_count": 2,
   "metadata": {},
   "outputs": [
    {
     "name": "stdout",
     "output_type": "stream",
     "text": [
      "Processing 59 diffraction patterns.\n"
     ]
    },
    {
     "data": {
      "application/vnd.jupyter.widget-view+json": {
       "model_id": "4c5ab1e992744d1da5935b4dd554b58c",
       "version_major": 2,
       "version_minor": 0
      },
      "text/plain": [
       "HBox(children=(IntProgress(value=0, max=59), HTML(value='')))"
      ]
     },
     "metadata": {},
     "output_type": "display_data"
    },
    {
     "name": "stdout",
     "output_type": "stream",
     "text": [
      "\n",
      "\n",
      "\n",
      "The following fits took over 500 fitting iterations. The quality of these fits should be checked.\n",
      "Fit for peak (10-10) & (111) at timesteps: [16, 58]\n",
      "Fit for peak (220) & (11-20) at timesteps: [2, 42, 45, 49]\n",
      "\n",
      "\n",
      "Analysis complete.\n",
      "Processing 59 diffraction patterns.\n"
     ]
    },
    {
     "data": {
      "application/vnd.jupyter.widget-view+json": {
       "model_id": "77bd0b4d899746c4a904dbff16eda1b0",
       "version_major": 2,
       "version_minor": 0
      },
      "text/plain": [
       "HBox(children=(IntProgress(value=0, max=59), HTML(value='')))"
      ]
     },
     "metadata": {},
     "output_type": "display_data"
    },
    {
     "name": "stdout",
     "output_type": "stream",
     "text": [
      "\n"
     ]
    },
    {
     "ename": "TypeError",
     "evalue": "Improper input: N=9 must not exceed M=0",
     "output_type": "error",
     "traceback": [
      "\u001b[1;31m---------------------------------------------------------------------------\u001b[0m",
      "\u001b[1;31mTypeError\u001b[0m                                 Traceback (most recent call last)",
      "\u001b[1;32m<ipython-input-2-fa5c3a994628>\u001b[0m in \u001b[0;36m<module>\u001b[1;34m\u001b[0m\n\u001b[0;32m      9\u001b[0m \u001b[1;33m\u001b[0m\u001b[0m\n\u001b[0;32m     10\u001b[0m \u001b[1;32mfor\u001b[0m \u001b[0mexperiment\u001b[0m \u001b[1;32min\u001b[0m \u001b[0mexperiments\u001b[0m\u001b[1;33m:\u001b[0m\u001b[1;33m\u001b[0m\u001b[1;33m\u001b[0m\u001b[0m\n\u001b[1;32m---> 11\u001b[1;33m     \u001b[0mexperiment\u001b[0m\u001b[1;33m.\u001b[0m\u001b[0mrun_analysis\u001b[0m\u001b[1;33m(\u001b[0m\u001b[0mreuse_fits\u001b[0m\u001b[1;33m=\u001b[0m\u001b[1;32mTrue\u001b[0m\u001b[1;33m)\u001b[0m\u001b[1;33m\u001b[0m\u001b[1;33m\u001b[0m\u001b[0m\n\u001b[0m",
      "\u001b[1;32mc:\\users\\mbgnwob2\\github\\xrdfit\\xrdfit\\spectrum_fitting.py\u001b[0m in \u001b[0;36mrun_analysis\u001b[1;34m(self, reuse_fits, debug, evaluation_threshold)\u001b[0m\n\u001b[0;32m    295\u001b[0m         \u001b[1;32mfor\u001b[0m \u001b[0mfile_path\u001b[0m \u001b[1;32min\u001b[0m \u001b[0mtqdm\u001b[0m\u001b[1;33m(\u001b[0m\u001b[0mfile_list\u001b[0m\u001b[1;33m)\u001b[0m\u001b[1;33m:\u001b[0m\u001b[1;33m\u001b[0m\u001b[1;33m\u001b[0m\u001b[0m\n\u001b[0;32m    296\u001b[0m             \u001b[0mspectral_data\u001b[0m \u001b[1;33m=\u001b[0m \u001b[0mFitSpectrum\u001b[0m\u001b[1;33m(\u001b[0m\u001b[0mfile_path\u001b[0m\u001b[1;33m,\u001b[0m \u001b[0mself\u001b[0m\u001b[1;33m.\u001b[0m\u001b[0mfirst_cake_angle\u001b[0m\u001b[1;33m,\u001b[0m \u001b[0mverbose\u001b[0m\u001b[1;33m=\u001b[0m\u001b[1;32mFalse\u001b[0m\u001b[1;33m)\u001b[0m\u001b[1;33m\u001b[0m\u001b[1;33m\u001b[0m\u001b[0m\n\u001b[1;32m--> 297\u001b[1;33m             \u001b[0mspectral_data\u001b[0m\u001b[1;33m.\u001b[0m\u001b[0mfit_peaks\u001b[0m\u001b[1;33m(\u001b[0m\u001b[0mself\u001b[0m\u001b[1;33m.\u001b[0m\u001b[0mpeak_params\u001b[0m\u001b[1;33m,\u001b[0m \u001b[0mself\u001b[0m\u001b[1;33m.\u001b[0m\u001b[0mcakes_to_fit\u001b[0m\u001b[1;33m,\u001b[0m \u001b[0mself\u001b[0m\u001b[1;33m.\u001b[0m\u001b[0mmerge_cakes\u001b[0m\u001b[1;33m,\u001b[0m \u001b[0mdebug\u001b[0m\u001b[1;33m)\u001b[0m\u001b[1;33m\u001b[0m\u001b[1;33m\u001b[0m\u001b[0m\n\u001b[0m\u001b[0;32m    298\u001b[0m             \u001b[0mself\u001b[0m\u001b[1;33m.\u001b[0m\u001b[0mtimesteps\u001b[0m\u001b[1;33m.\u001b[0m\u001b[0mappend\u001b[0m\u001b[1;33m(\u001b[0m\u001b[0mspectral_data\u001b[0m\u001b[1;33m)\u001b[0m\u001b[1;33m\u001b[0m\u001b[1;33m\u001b[0m\u001b[0m\n\u001b[0;32m    299\u001b[0m \u001b[1;33m\u001b[0m\u001b[0m\n",
      "\u001b[1;32mc:\\users\\mbgnwob2\\github\\xrdfit\\xrdfit\\spectrum_fitting.py\u001b[0m in \u001b[0;36mfit_peaks\u001b[1;34m(self, peak_params, cakes, merge_cakes, debug)\u001b[0m\n\u001b[0;32m    218\u001b[0m                 \u001b[0mstacked_spectrum\u001b[0m \u001b[1;33m=\u001b[0m \u001b[0mget_stacked_spectrum\u001b[0m\u001b[1;33m(\u001b[0m\u001b[0mnew_fit\u001b[0m\u001b[1;33m.\u001b[0m\u001b[0mraw_spectrum\u001b[0m\u001b[1;33m)\u001b[0m\u001b[1;33m\u001b[0m\u001b[1;33m\u001b[0m\u001b[0m\n\u001b[0;32m    219\u001b[0m                 new_fit.result = do_pv_fit(stacked_spectrum, peak.maxima_bounds,\n\u001b[1;32m--> 220\u001b[1;33m                                            peak.previous_fit_parameters)\n\u001b[0m\u001b[0;32m    221\u001b[0m             \u001b[0mself\u001b[0m\u001b[1;33m.\u001b[0m\u001b[0mfitted_peaks\u001b[0m\u001b[1;33m.\u001b[0m\u001b[0mappend\u001b[0m\u001b[1;33m(\u001b[0m\u001b[0mnew_fit\u001b[0m\u001b[1;33m)\u001b[0m\u001b[1;33m\u001b[0m\u001b[1;33m\u001b[0m\u001b[0m\n\u001b[0;32m    222\u001b[0m             \u001b[1;32mif\u001b[0m \u001b[0mnew_fit\u001b[0m\u001b[1;33m.\u001b[0m\u001b[0mresult\u001b[0m\u001b[1;33m.\u001b[0m\u001b[0mnfev\u001b[0m \u001b[1;33m>\u001b[0m \u001b[1;36m500\u001b[0m \u001b[1;32mand\u001b[0m \u001b[0mdebug\u001b[0m\u001b[1;33m:\u001b[0m\u001b[1;33m\u001b[0m\u001b[1;33m\u001b[0m\u001b[0m\n",
      "\u001b[1;32mc:\\users\\mbgnwob2\\github\\xrdfit\\xrdfit\\pv_fit.py\u001b[0m in \u001b[0;36mdo_pv_fit\u001b[1;34m(peak_data, maxima_locations, fit_parameters)\u001b[0m\n\u001b[0;32m     34\u001b[0m         \u001b[0mfit_parameters\u001b[0m \u001b[1;33m=\u001b[0m \u001b[0mguess_params\u001b[0m\u001b[1;33m(\u001b[0m\u001b[0mfit_parameters\u001b[0m\u001b[1;33m,\u001b[0m \u001b[0mtwo_theta\u001b[0m\u001b[1;33m,\u001b[0m \u001b[0mintensity\u001b[0m\u001b[1;33m,\u001b[0m \u001b[0mmaxima_locations\u001b[0m\u001b[1;33m)\u001b[0m\u001b[1;33m\u001b[0m\u001b[1;33m\u001b[0m\u001b[0m\n\u001b[0;32m     35\u001b[0m \u001b[1;33m\u001b[0m\u001b[0m\n\u001b[1;32m---> 36\u001b[1;33m     \u001b[0mfit_result\u001b[0m \u001b[1;33m=\u001b[0m \u001b[0mmodel\u001b[0m\u001b[1;33m.\u001b[0m\u001b[0mfit\u001b[0m\u001b[1;33m(\u001b[0m\u001b[0mintensity\u001b[0m\u001b[1;33m,\u001b[0m \u001b[0mfit_parameters\u001b[0m\u001b[1;33m,\u001b[0m \u001b[0mx\u001b[0m\u001b[1;33m=\u001b[0m\u001b[0mtwo_theta\u001b[0m\u001b[1;33m,\u001b[0m \u001b[0miter_cb\u001b[0m\u001b[1;33m=\u001b[0m\u001b[0miteration_callback\u001b[0m\u001b[1;33m)\u001b[0m\u001b[1;33m\u001b[0m\u001b[1;33m\u001b[0m\u001b[0m\n\u001b[0m\u001b[0;32m     37\u001b[0m \u001b[1;33m\u001b[0m\u001b[0m\n\u001b[0;32m     38\u001b[0m     \u001b[1;32mreturn\u001b[0m \u001b[0mfit_result\u001b[0m\u001b[1;33m\u001b[0m\u001b[1;33m\u001b[0m\u001b[0m\n",
      "\u001b[1;32m~\\AppData\\Local\\Continuum\\anaconda3\\lib\\site-packages\\lmfit\\model.py\u001b[0m in \u001b[0;36mfit\u001b[1;34m(self, data, params, weights, method, iter_cb, scale_covar, verbose, fit_kws, nan_policy, calc_covar, **kwargs)\u001b[0m\n\u001b[0;32m   1020\u001b[0m                              \u001b[0mnan_policy\u001b[0m\u001b[1;33m=\u001b[0m\u001b[0mself\u001b[0m\u001b[1;33m.\u001b[0m\u001b[0mnan_policy\u001b[0m\u001b[1;33m,\u001b[0m \u001b[0mcalc_covar\u001b[0m\u001b[1;33m=\u001b[0m\u001b[0mcalc_covar\u001b[0m\u001b[1;33m,\u001b[0m\u001b[1;33m\u001b[0m\u001b[1;33m\u001b[0m\u001b[0m\n\u001b[0;32m   1021\u001b[0m                              **fit_kws)\n\u001b[1;32m-> 1022\u001b[1;33m         \u001b[0moutput\u001b[0m\u001b[1;33m.\u001b[0m\u001b[0mfit\u001b[0m\u001b[1;33m(\u001b[0m\u001b[0mdata\u001b[0m\u001b[1;33m=\u001b[0m\u001b[0mdata\u001b[0m\u001b[1;33m,\u001b[0m \u001b[0mweights\u001b[0m\u001b[1;33m=\u001b[0m\u001b[0mweights\u001b[0m\u001b[1;33m)\u001b[0m\u001b[1;33m\u001b[0m\u001b[1;33m\u001b[0m\u001b[0m\n\u001b[0m\u001b[0;32m   1023\u001b[0m         \u001b[0moutput\u001b[0m\u001b[1;33m.\u001b[0m\u001b[0mcomponents\u001b[0m \u001b[1;33m=\u001b[0m \u001b[0mself\u001b[0m\u001b[1;33m.\u001b[0m\u001b[0mcomponents\u001b[0m\u001b[1;33m\u001b[0m\u001b[1;33m\u001b[0m\u001b[0m\n\u001b[0;32m   1024\u001b[0m         \u001b[1;32mreturn\u001b[0m \u001b[0moutput\u001b[0m\u001b[1;33m\u001b[0m\u001b[1;33m\u001b[0m\u001b[0m\n",
      "\u001b[1;32m~\\AppData\\Local\\Continuum\\anaconda3\\lib\\site-packages\\lmfit\\model.py\u001b[0m in \u001b[0;36mfit\u001b[1;34m(self, data, params, weights, method, nan_policy, **kwargs)\u001b[0m\n\u001b[0;32m   1368\u001b[0m         \u001b[0mself\u001b[0m\u001b[1;33m.\u001b[0m\u001b[0muserkws\u001b[0m\u001b[1;33m.\u001b[0m\u001b[0mupdate\u001b[0m\u001b[1;33m(\u001b[0m\u001b[0mkwargs\u001b[0m\u001b[1;33m)\u001b[0m\u001b[1;33m\u001b[0m\u001b[1;33m\u001b[0m\u001b[0m\n\u001b[0;32m   1369\u001b[0m         \u001b[0mself\u001b[0m\u001b[1;33m.\u001b[0m\u001b[0minit_fit\u001b[0m \u001b[1;33m=\u001b[0m \u001b[0mself\u001b[0m\u001b[1;33m.\u001b[0m\u001b[0mmodel\u001b[0m\u001b[1;33m.\u001b[0m\u001b[0meval\u001b[0m\u001b[1;33m(\u001b[0m\u001b[0mparams\u001b[0m\u001b[1;33m=\u001b[0m\u001b[0mself\u001b[0m\u001b[1;33m.\u001b[0m\u001b[0mparams\u001b[0m\u001b[1;33m,\u001b[0m \u001b[1;33m**\u001b[0m\u001b[0mself\u001b[0m\u001b[1;33m.\u001b[0m\u001b[0muserkws\u001b[0m\u001b[1;33m)\u001b[0m\u001b[1;33m\u001b[0m\u001b[1;33m\u001b[0m\u001b[0m\n\u001b[1;32m-> 1370\u001b[1;33m         \u001b[0m_ret\u001b[0m \u001b[1;33m=\u001b[0m \u001b[0mself\u001b[0m\u001b[1;33m.\u001b[0m\u001b[0mminimize\u001b[0m\u001b[1;33m(\u001b[0m\u001b[0mmethod\u001b[0m\u001b[1;33m=\u001b[0m\u001b[0mself\u001b[0m\u001b[1;33m.\u001b[0m\u001b[0mmethod\u001b[0m\u001b[1;33m)\u001b[0m\u001b[1;33m\u001b[0m\u001b[1;33m\u001b[0m\u001b[0m\n\u001b[0m\u001b[0;32m   1371\u001b[0m \u001b[1;33m\u001b[0m\u001b[0m\n\u001b[0;32m   1372\u001b[0m         \u001b[1;32mfor\u001b[0m \u001b[0mattr\u001b[0m \u001b[1;32min\u001b[0m \u001b[0mdir\u001b[0m\u001b[1;33m(\u001b[0m\u001b[0m_ret\u001b[0m\u001b[1;33m)\u001b[0m\u001b[1;33m:\u001b[0m\u001b[1;33m\u001b[0m\u001b[1;33m\u001b[0m\u001b[0m\n",
      "\u001b[1;32m~\\AppData\\Local\\Continuum\\anaconda3\\lib\\site-packages\\lmfit\\minimizer.py\u001b[0m in \u001b[0;36mminimize\u001b[1;34m(self, method, params, **kws)\u001b[0m\n\u001b[0;32m   2174\u001b[0m                         val.lower().startswith(user_method)):\n\u001b[0;32m   2175\u001b[0m                     \u001b[0mkwargs\u001b[0m\u001b[1;33m[\u001b[0m\u001b[1;34m'method'\u001b[0m\u001b[1;33m]\u001b[0m \u001b[1;33m=\u001b[0m \u001b[0mval\u001b[0m\u001b[1;33m\u001b[0m\u001b[1;33m\u001b[0m\u001b[0m\n\u001b[1;32m-> 2176\u001b[1;33m         \u001b[1;32mreturn\u001b[0m \u001b[0mfunction\u001b[0m\u001b[1;33m(\u001b[0m\u001b[1;33m**\u001b[0m\u001b[0mkwargs\u001b[0m\u001b[1;33m)\u001b[0m\u001b[1;33m\u001b[0m\u001b[1;33m\u001b[0m\u001b[0m\n\u001b[0m\u001b[0;32m   2177\u001b[0m \u001b[1;33m\u001b[0m\u001b[0m\n\u001b[0;32m   2178\u001b[0m \u001b[1;33m\u001b[0m\u001b[0m\n",
      "\u001b[1;32m~\\AppData\\Local\\Continuum\\anaconda3\\lib\\site-packages\\lmfit\\minimizer.py\u001b[0m in \u001b[0;36mleastsq\u001b[1;34m(self, params, **kws)\u001b[0m\n\u001b[0;32m   1566\u001b[0m \u001b[1;33m\u001b[0m\u001b[0m\n\u001b[0;32m   1567\u001b[0m         \u001b[1;32mtry\u001b[0m\u001b[1;33m:\u001b[0m\u001b[1;33m\u001b[0m\u001b[1;33m\u001b[0m\u001b[0m\n\u001b[1;32m-> 1568\u001b[1;33m             \u001b[0mlsout\u001b[0m \u001b[1;33m=\u001b[0m \u001b[0mscipy_leastsq\u001b[0m\u001b[1;33m(\u001b[0m\u001b[0mself\u001b[0m\u001b[1;33m.\u001b[0m\u001b[0m__residual\u001b[0m\u001b[1;33m,\u001b[0m \u001b[0mvariables\u001b[0m\u001b[1;33m,\u001b[0m \u001b[1;33m**\u001b[0m\u001b[0mlskws\u001b[0m\u001b[1;33m)\u001b[0m\u001b[1;33m\u001b[0m\u001b[1;33m\u001b[0m\u001b[0m\n\u001b[0m\u001b[0;32m   1569\u001b[0m         \u001b[1;32mexcept\u001b[0m \u001b[0mAbortFitException\u001b[0m\u001b[1;33m:\u001b[0m\u001b[1;33m\u001b[0m\u001b[1;33m\u001b[0m\u001b[0m\n\u001b[0;32m   1570\u001b[0m             \u001b[1;32mpass\u001b[0m\u001b[1;33m\u001b[0m\u001b[1;33m\u001b[0m\u001b[0m\n",
      "\u001b[1;32m~\\AppData\\Local\\Continuum\\anaconda3\\lib\\site-packages\\scipy\\optimize\\minpack.py\u001b[0m in \u001b[0;36mleastsq\u001b[1;34m(func, x0, args, Dfun, full_output, col_deriv, ftol, xtol, gtol, maxfev, epsfcn, factor, diag)\u001b[0m\n\u001b[0;32m    385\u001b[0m \u001b[1;33m\u001b[0m\u001b[0m\n\u001b[0;32m    386\u001b[0m     \u001b[1;32mif\u001b[0m \u001b[0mn\u001b[0m \u001b[1;33m>\u001b[0m \u001b[0mm\u001b[0m\u001b[1;33m:\u001b[0m\u001b[1;33m\u001b[0m\u001b[1;33m\u001b[0m\u001b[0m\n\u001b[1;32m--> 387\u001b[1;33m         \u001b[1;32mraise\u001b[0m \u001b[0mTypeError\u001b[0m\u001b[1;33m(\u001b[0m\u001b[1;34m'Improper input: N=%s must not exceed M=%s'\u001b[0m \u001b[1;33m%\u001b[0m \u001b[1;33m(\u001b[0m\u001b[0mn\u001b[0m\u001b[1;33m,\u001b[0m \u001b[0mm\u001b[0m\u001b[1;33m)\u001b[0m\u001b[1;33m)\u001b[0m\u001b[1;33m\u001b[0m\u001b[1;33m\u001b[0m\u001b[0m\n\u001b[0m\u001b[0;32m    388\u001b[0m \u001b[1;33m\u001b[0m\u001b[0m\n\u001b[0;32m    389\u001b[0m     \u001b[1;32mif\u001b[0m \u001b[0mepsfcn\u001b[0m \u001b[1;32mis\u001b[0m \u001b[1;32mNone\u001b[0m\u001b[1;33m:\u001b[0m\u001b[1;33m\u001b[0m\u001b[1;33m\u001b[0m\u001b[0m\n",
      "\u001b[1;31mTypeError\u001b[0m: Improper input: N=9 must not exceed M=0"
     ]
    }
   ],
   "source": [
    "file_stub = r'C:\\Users\\mbgnwob2\\Dropbox (The University of Manchester)\\2. Project\\Python Script\\Single Peak Fitting Script ORIGINAL - Copy\\Test_data_Sample2_tension_strain\\Strain_*'\n",
    "\n",
    "experiments = []\n",
    "spectrums = []\n",
    "spectral_data = []\n",
    "\n",
    "for cake in cakes_to_fit:\n",
    "    experiments.append(spectrum_fitting.FittingExperiment(spectrum_time, file_stub, first_cake_angle, cake, peak_params, merge_cakes))\n",
    "    \n",
    "for experiment in experiments: \n",
    "    experiment.run_analysis(reuse_fits=True)"
   ]
  },
  {
   "cell_type": "markdown",
   "metadata": {},
   "source": [
    "The results are hierarchically stored in the `FitExperiment` object and can be accessed directly if you wish. However, it is probably easier to use the `FitExperiment` helper methods described below to plot the results rather than accessing the raw fit data directly.\n",
    "\n",
    "The `peak_names` method lists the names of the fitted peaks specified in the `PeakParams` objects. The `fit_parameters` method gives a list of the names of the fit parameters for a particular peak."
   ]
  },
  {
   "cell_type": "code",
   "execution_count": null,
   "metadata": {},
   "outputs": [],
   "source": []
  },
  {
   "cell_type": "markdown",
   "metadata": {},
   "source": [
    "To plot a parameter for a fit over time use the `plot_fit_parameter` method. To plot all of the parameters for all of the peaks use a loop:"
   ]
  },
  {
   "cell_type": "code",
   "execution_count": null,
   "metadata": {},
   "outputs": [],
   "source": []
  },
  {
   "cell_type": "markdown",
   "metadata": {},
   "source": [
    "The blue line is the value of the parameter while the light blue shaded area is +- 1 standard error on the determination of the parameter from the fit. In this case the errors on the parameters are small indicating a good fit, however the peak does not do anything very interesting. This is because the 10 example files represent only a short time period where little was changing in the material.\n",
    "\n",
    "Error bars are plotted by defualt, to turn them off you can use the `show_error` parameter:"
   ]
  },
  {
   "cell_type": "code",
   "execution_count": null,
   "metadata": {},
   "outputs": [],
   "source": []
  },
  {
   "cell_type": "markdown",
   "metadata": {},
   "source": [
    "## 3.2. Fitting multiple peaks at multiple times\n",
    "We can set up a larger analysis to fit multiple peaks over time. It is probably a good workflow to determine good values for the `PeakParams` on a single file first to check that the fits are good and then use them to run over multiple files. Here we take the `PeakParams` determined in the first tutorial notebooks."
   ]
  },
  {
   "cell_type": "code",
   "execution_count": null,
   "metadata": {},
   "outputs": [],
   "source": [
    "print(experiment.peak_names())\n",
    "for peak_name in experiment.peak_names():\n",
    "    print(experiment.fit_parameters(peak_name))"
   ]
  },
  {
   "cell_type": "markdown",
   "metadata": {},
   "source": [
    "Here we can see that we have the four peaks we have fitted. Notice that the third peak has two sets of fit parameters. Since the third peak is fitted with a compound fit, the first fit corresponds to the first maxima and the second the second maxima.\n",
    "\n",
    "As before we can loop over the names though this time we plot just the centre of the fit. The second maxima will only be plotted for the peak where it exists."
   ]
  },
  {
   "cell_type": "code",
   "execution_count": null,
   "metadata": {},
   "outputs": [],
   "source": [
    "for peak_name in experiment.peak_names():\n",
    "    for param in experiment.fit_parameters(peak_name):\n",
    "        experiment.plot_fit_parameter(peak_name, param)"
   ]
  },
  {
   "cell_type": "markdown",
   "metadata": {},
   "source": [
    "## 3.3. Plotting fits\n",
    "\n",
    "If you notice the fits going very slowly at certain times or the plotted fit parameters show unexpected values, it is likely the fit parameters need adjusting a little. To get an idea of how the fits went you can plot the fits from a time series using the `plot_fits` method. By defualt the method prints plots for 5 timesteps, evenly spaced in time, plotting one plot for each fitted peak."
   ]
  },
  {
   "cell_type": "code",
   "execution_count": null,
   "metadata": {},
   "outputs": [],
   "source": [
    "def steps_slide_bar():\n",
    "    step_slider = widgets.IntSlider(value=0, min = 0, max = 57, step = 1)\n",
    "    return step_slider"
   ]
  },
  {
   "cell_type": "code",
   "execution_count": null,
   "metadata": {},
   "outputs": [],
   "source": [
    "timestep = steps_slide_bar()\n",
    "timestep"
   ]
  },
  {
   "cell_type": "code",
   "execution_count": null,
   "metadata": {},
   "outputs": [],
   "source": [
    "timestep_val = [timestep.value]\n",
    "timestep_val"
   ]
  },
  {
   "cell_type": "code",
   "execution_count": null,
   "metadata": {},
   "outputs": [],
   "source": [
    "widgets.interact(experiments[0].plot_fits, timesteps = [1, 2, 3, 4], peak_names = fixed(['(10-10) & (111)']))"
   ]
  },
  {
   "cell_type": "code",
   "execution_count": null,
   "metadata": {},
   "outputs": [],
   "source": [
    "for experiment in experiments:\n",
    "    experiment.plot_fits(num_timesteps = 59)"
   ]
  },
  {
   "cell_type": "markdown",
   "metadata": {},
   "source": [
    "This could potentially be a lot of plots so you can narrow down the plots you want by provinding different arguments to the plot_fits function. `num_timesteps` sets how many evenly spaced timesteps to plot (default: 5). `peak_names` is a list of one or more peak names to plot (default: all fitted peaks). `timesteps` is a list of integer values specifying which timesteps to plot, if timesteps is provided then `num_timesteps` will be ignored."
   ]
  },
  {
   "cell_type": "code",
   "execution_count": null,
   "metadata": {},
   "outputs": [],
   "source": [
    "experiment.plot_fits(peak_names=[\"1\", \"4\"], timesteps=[2, 3])"
   ]
  },
  {
   "cell_type": "markdown",
   "metadata": {},
   "source": [
    "## 3.4. Fitting a subset of timesteps\n",
    "\n",
    "Sometimes it is the case that we do not want to process all spectra in a series. Perhaps the sampling frequency is too high and we only want to fit every other spectrum or every 10th spectrum. Perhaps the interesting data is at the end so you want to skip the first 100 spectra. This can be done by  supplying an extra parameter to the `FitExperiment` object.\n",
    "\n",
    "The *frames_to_load* parameter is a list of integer values specifying which files to load. The file stub also has to be modified here - add a python format string where the numbers need to be substituted in the file name. In this example `:05d` corresponds to a 5 digit wide integer padded with zeros. This means 1 will become 00001, 10 will become 00010 etc. For more on python sting formatting see here: https://pyformat.info/#number\n",
    "\n",
    "The below example will be just the same as the one above except it will only load spectra 1, 3 and 4 from the example folder. Notice how the x-axis on the parameter plots scales correctly - leaving a gap at 2 seconds where there is no data."
   ]
  },
  {
   "cell_type": "code",
   "execution_count": null,
   "metadata": {},
   "outputs": [],
   "source": [
    "frames_to_load = [1, 3, 4]\n",
    "file_stub = \"../example_data/adc_041_7Nb_NDload_700C_15mms_{:05d}.dat\"\n",
    "\n",
    "experiment = spectrum_fitting.FittingExperiment(spectrum_time, file_stub, first_cake_angle, \n",
    "                                                cakes_to_fit, peak_params, merge_cakes, frames_to_load)\n",
    "\n",
    "experiment.run_analysis()\n",
    "for peak_name in experiment.peak_names():\n",
    "    experiment.plot_fit_parameter(peak_name, \"maximum_1_center\", show_points=True)"
   ]
  },
  {
   "cell_type": "markdown",
   "metadata": {},
   "source": [
    "To get the raw data you can use the `get_fit_parameter` method. The first column is the time (x-data), the second column is the requested parameter (y-data) and the third column is the standard error on the fit parameter (y-error) estimated from the fitting covariance matrix."
   ]
  },
  {
   "cell_type": "code",
   "execution_count": null,
   "metadata": {},
   "outputs": [],
   "source": [
    "experiment.get_fit_parameter(\"1\", \"maximum_1_center\")"
   ]
  },
  {
   "cell_type": "markdown",
   "metadata": {},
   "source": [
    "Once you have done an experiment it may be desirable to save the fits to be able to refer back to them later.\n",
    "\n",
    "This can be done using the `save` method of the `FitExperiment` object."
   ]
  },
  {
   "cell_type": "code",
   "execution_count": null,
   "metadata": {},
   "outputs": [],
   "source": [
    "experiment.save(\"experiment.dump\")"
   ]
  },
  {
   "cell_type": "markdown",
   "metadata": {},
   "source": [
    "This file is a compressed binary file and so is not human readable. Note that although the file is compressed, the output may well be large - typically on the order of the size of the input data since the input data is embedded in the object.\n",
    "\n",
    "To read in a previously saved `FitExperiment` object, use the `spectrum_fitting.load_dump` method. This returns a new `FitExperiment` with the saved fits which you can operate on just as before."
   ]
  },
  {
   "cell_type": "code",
   "execution_count": null,
   "metadata": {},
   "outputs": [],
   "source": [
    "old_experiment = spectrum_fitting.load_dump(\"experiment.dump\")\n",
    "experiment.plot_fit_parameter(\"1\", \"maximum_1_center\", show_points=True)"
   ]
  },
  {
   "cell_type": "markdown",
   "metadata": {},
   "source": [
    "## 3.5. Using previous fits as a starting point for the next fit\n",
    "\n",
    "It is possible to use the result of a fit from a previous time step as the starting condition for the next fit. You can do this by using the reuuse_fits parameter of the `run_analysis` method. "
   ]
  },
  {
   "cell_type": "code",
   "execution_count": null,
   "metadata": {},
   "outputs": [],
   "source": [
    "experiment.run_analysis(reuse_fits=True)"
   ]
  },
  {
   "cell_type": "markdown",
   "metadata": {},
   "source": [
    "This may be useful if the fits change little between timesteps as in theory the previous fit should be a good starting point for the next one. If the fits are quite different between timesteps it is likely better to not reuse the fits. In this case the code will make an educated guess about the parameters instead.\n",
    "\n",
    "We have previously found that reusing the fits can cause poor fitting performance, taking many iterations to complete each fit. The reason for this is not currently understood. Try with and without reusing fits and see which works best for your dataset."
   ]
  }
 ],
 "metadata": {
  "kernelspec": {
   "display_name": "Python 3",
   "language": "python",
   "name": "python3"
  },
  "language_info": {
   "codemirror_mode": {
    "name": "ipython",
    "version": 3
   },
   "file_extension": ".py",
   "mimetype": "text/x-python",
   "name": "python",
   "nbconvert_exporter": "python",
   "pygments_lexer": "ipython3",
   "version": "3.7.4"
  },
  "pycharm": {
   "stem_cell": {
    "cell_type": "raw",
    "metadata": {
     "collapsed": false
    },
    "source": []
   }
  }
 },
 "nbformat": 4,
 "nbformat_minor": 4
}
